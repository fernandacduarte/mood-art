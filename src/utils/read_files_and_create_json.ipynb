{
 "cells": [
  {
   "cell_type": "code",
   "execution_count": 1,
   "metadata": {},
   "outputs": [],
   "source": [
    "from os import listdir\n",
    "from os.path import isfile, join\n",
    "from nltk.corpus import wordnet\n",
    "import json"
   ]
  },
  {
   "cell_type": "code",
   "execution_count": 2,
   "metadata": {},
   "outputs": [],
   "source": [
    "mypath = \"..\\\\..\\\\public\\\\assets\\\\images\\\\\"\n",
    "onlyfiles = [f for f in listdir(mypath) if isfile(join(mypath, f))]"
   ]
  },
  {
   "cell_type": "code",
   "execution_count": 3,
   "metadata": {},
   "outputs": [
    {
     "data": {
      "text/plain": [
       "['alone0.jpeg',\n",
       " 'calm0.jpeg',\n",
       " 'confident0.jpeg',\n",
       " 'confident1.jpeg',\n",
       " 'creative0.jpeg',\n",
       " 'creative1.jpeg',\n",
       " 'curious0.jpeg',\n",
       " 'curious1.jpeg',\n",
       " 'curious2.jpeg',\n",
       " 'energized0.jpeg',\n",
       " 'foggy0.jpeg',\n",
       " 'free0.jpeg',\n",
       " 'happy0.jpeg',\n",
       " 'happy1.jpeg',\n",
       " 'hopeful0.jpeg',\n",
       " 'joyful0.jpeg',\n",
       " 'joyful1.jpeg',\n",
       " 'joyful2.jpeg',\n",
       " 'joyful3.jpg',\n",
       " 'lazy0.jpeg',\n",
       " 'melancholy0.jpeg',\n",
       " 'passionate0.jpeg',\n",
       " 'passionate1.jpeg',\n",
       " 'reflective0.jpeg',\n",
       " 'thoughtful0.jpeg']"
      ]
     },
     "execution_count": 3,
     "metadata": {},
     "output_type": "execute_result"
    }
   ],
   "source": [
    "onlyfiles"
   ]
  },
  {
   "cell_type": "code",
   "execution_count": 4,
   "metadata": {},
   "outputs": [
    {
     "name": "stdout",
     "output_type": "stream",
     "text": [
      "['alone', 'calm', 'confident', 'confident', 'creative', 'creative', 'curious', 'curious', 'curious', 'energized', 'foggy', 'free', 'happy', 'happy', 'hopeful', 'joyful', 'joyful', 'joyful', 'joyful', 'lazy', 'melancholy', 'passionate', 'passionate', 'reflective', 'thoughtful']\n"
     ]
    }
   ],
   "source": [
    "moods = []\n",
    "\n",
    "for f in onlyfiles:\n",
    "    moods.append(f.split('.')[0][:-1])\n",
    "    \n",
    "print(moods)"
   ]
  },
  {
   "cell_type": "code",
   "execution_count": 6,
   "metadata": {},
   "outputs": [
    {
     "name": "stdout",
     "output_type": "stream",
     "text": [
      "{'alone': {'only', 'solitary', 'solely', 'unaccompanied', 'unequaled', 'lone', 'unparalleled', 'unique', 'exclusively', 'unequalled', 'alone', 'solo', 'lonely', 'entirely'}, 'calm': {'lull', 'quieten', 'still', 'steady', 'tranquillise', 'composure', 'serene', 'cool_off', 'chill_out', 'calm', 'calm_down', 'quiet', 'tranquil', 'becalm', 'tranquillize', 'cool_it', 'calm_air', 'simmer_down', 'tranquilize', 'sedate', 'settle_down', 'unagitated', 'calmness', 'equanimity'}, 'confident': {'surefooted', 'convinced', 'positive', 'sure-footed', 'confident'}, 'creative': {'creative', 'originative'}, 'curious': {'funny', 'peculiar', 'rum', 'rummy', 'singular', 'curious', 'odd', 'queer'}, 'energized': {'excite', 'energise', 'stimulate', 'arouse', 'energize', 'perk_up', 'brace'}, 'foggy': {'blurred', 'hazy', 'muzzy', 'blurry', 'brumous', 'misty', 'groggy', 'dazed', 'foggy', 'fogged', 'stuporous', 'fuzzy', 'logy', 'bleary'}, 'free': {'unfreeze', 'gratuitous', 'devoid', 'innocent', 'gratis', 'justify', 'unloosen', 'release', 'unloose', 'relinquish', 'detached', 'free_people', 'dislodge', 'loose', 'free', 'disembarrass', 'relieve', 'barren', 'rid', 'liberal', 'unblock', 'costless', 'spare', 'absolve', 'complimentary', 'liberate', 'destitute', 'give_up', 'disengage', 'exempt', 'resign', 'discharge'}, 'happy': {'glad', 'felicitous', 'happy', 'well-chosen'}, 'hopeful': {'bright', 'aspirant', 'promising', 'wannabe', 'wannabee', 'aspirer', 'hopeful'}, 'joyful': {'gleeful', 'jubilant', 'elated', 'joyful'}, 'lazy': {'otiose', 'work-shy', 'lazy', 'indolent', 'faineant', 'slothful'}, 'melancholy': {'sombre', 'somber', 'melancholic', 'black_bile', 'melancholy'}, 'passionate': {'passionate'}, 'reflective': {'broody', 'brooding', 'reflective', 'meditative', 'contemplative', 'musing', 'ruminative', 'pondering', 'pensive'}, 'thoughtful': {'attentive', 'thoughtful', 'paying_attention', 'serious-minded', 'heedful'}}\n"
     ]
    }
   ],
   "source": [
    "# sources:\n",
    "# https://wordnet.princeton.edu/\n",
    "# https://www.guru99.com/wordnet-nltk.html\n",
    "# https://www.nltk.org/howto/wordnet.html\n",
    "\n",
    "synonymsDict = dict()\n",
    "\n",
    "for mood in moods:\n",
    "    moodSynonyms = []\n",
    "    for syn in wordnet.synsets(mood):\n",
    "        for l in syn.lemmas():\n",
    "            moodSynonyms.append(l.name())\n",
    "    if mood not in synonymsDict:\n",
    "        synonymsDict[mood] = set(moodSynonyms)\n",
    "        \n",
    "print(synonymsDict)"
   ]
  },
  {
   "cell_type": "code",
   "execution_count": 8,
   "metadata": {},
   "outputs": [],
   "source": [
    "moodArts = []\n",
    "moodId = 0\n",
    "\n",
    "for f in onlyfiles:\n",
    "    moodId += 1\n",
    "    moodName = f.split('.')[0][:-1]\n",
    "    moodSynonyms = synonymsDict[moodName]\n",
    "    stringSynonyms = ''\n",
    "    for synonym in moodSynonyms:\n",
    "        stringSynonyms += (synonym + ' ')\n",
    "    stringSynonyms = stringSynonyms[:-1]\n",
    "    moodDict = {\n",
    "        'id': moodId,\n",
    "        'mood': moodName,\n",
    "        'keywords': stringSynonyms,\n",
    "        'filepath': '/assets/images/' + f,\n",
    "    }\n",
    "    moodArts.append(moodDict)"
   ]
  },
  {
   "cell_type": "code",
   "execution_count": 9,
   "metadata": {
    "scrolled": true
   },
   "outputs": [
    {
     "data": {
      "text/plain": [
       "[{'id': 1,\n",
       "  'mood': 'alone',\n",
       "  'keywords': 'only solitary solely unaccompanied unequaled lone unparalleled unique exclusively unequalled alone solo lonely entirely',\n",
       "  'filepath': '/assets/images/alone0.jpeg'},\n",
       " {'id': 2,\n",
       "  'mood': 'calm',\n",
       "  'keywords': 'lull quieten still steady tranquillise composure serene cool_off chill_out calm calm_down quiet tranquil becalm tranquillize cool_it calm_air simmer_down tranquilize sedate settle_down unagitated calmness equanimity',\n",
       "  'filepath': '/assets/images/calm0.jpeg'},\n",
       " {'id': 3,\n",
       "  'mood': 'confident',\n",
       "  'keywords': 'surefooted convinced positive sure-footed confident',\n",
       "  'filepath': '/assets/images/confident0.jpeg'},\n",
       " {'id': 4,\n",
       "  'mood': 'confident',\n",
       "  'keywords': 'surefooted convinced positive sure-footed confident',\n",
       "  'filepath': '/assets/images/confident1.jpeg'},\n",
       " {'id': 5,\n",
       "  'mood': 'creative',\n",
       "  'keywords': 'creative originative',\n",
       "  'filepath': '/assets/images/creative0.jpeg'},\n",
       " {'id': 6,\n",
       "  'mood': 'creative',\n",
       "  'keywords': 'creative originative',\n",
       "  'filepath': '/assets/images/creative1.jpeg'},\n",
       " {'id': 7,\n",
       "  'mood': 'curious',\n",
       "  'keywords': 'funny peculiar rum rummy singular curious odd queer',\n",
       "  'filepath': '/assets/images/curious0.jpeg'},\n",
       " {'id': 8,\n",
       "  'mood': 'curious',\n",
       "  'keywords': 'funny peculiar rum rummy singular curious odd queer',\n",
       "  'filepath': '/assets/images/curious1.jpeg'},\n",
       " {'id': 9,\n",
       "  'mood': 'curious',\n",
       "  'keywords': 'funny peculiar rum rummy singular curious odd queer',\n",
       "  'filepath': '/assets/images/curious2.jpeg'},\n",
       " {'id': 10,\n",
       "  'mood': 'energized',\n",
       "  'keywords': 'excite energise stimulate arouse energize perk_up brace',\n",
       "  'filepath': '/assets/images/energized0.jpeg'},\n",
       " {'id': 11,\n",
       "  'mood': 'foggy',\n",
       "  'keywords': 'blurred hazy muzzy blurry brumous misty groggy dazed foggy fogged stuporous fuzzy logy bleary',\n",
       "  'filepath': '/assets/images/foggy0.jpeg'},\n",
       " {'id': 12,\n",
       "  'mood': 'free',\n",
       "  'keywords': 'unfreeze gratuitous devoid innocent gratis justify unloosen release unloose relinquish detached free_people dislodge loose free disembarrass relieve barren rid liberal unblock costless spare absolve complimentary liberate destitute give_up disengage exempt resign discharge',\n",
       "  'filepath': '/assets/images/free0.jpeg'},\n",
       " {'id': 13,\n",
       "  'mood': 'happy',\n",
       "  'keywords': 'glad felicitous happy well-chosen',\n",
       "  'filepath': '/assets/images/happy0.jpeg'},\n",
       " {'id': 14,\n",
       "  'mood': 'happy',\n",
       "  'keywords': 'glad felicitous happy well-chosen',\n",
       "  'filepath': '/assets/images/happy1.jpeg'},\n",
       " {'id': 15,\n",
       "  'mood': 'hopeful',\n",
       "  'keywords': 'bright aspirant promising wannabe wannabee aspirer hopeful',\n",
       "  'filepath': '/assets/images/hopeful0.jpeg'},\n",
       " {'id': 16,\n",
       "  'mood': 'joyful',\n",
       "  'keywords': 'gleeful jubilant elated joyful',\n",
       "  'filepath': '/assets/images/joyful0.jpeg'},\n",
       " {'id': 17,\n",
       "  'mood': 'joyful',\n",
       "  'keywords': 'gleeful jubilant elated joyful',\n",
       "  'filepath': '/assets/images/joyful1.jpeg'},\n",
       " {'id': 18,\n",
       "  'mood': 'joyful',\n",
       "  'keywords': 'gleeful jubilant elated joyful',\n",
       "  'filepath': '/assets/images/joyful2.jpeg'},\n",
       " {'id': 19,\n",
       "  'mood': 'joyful',\n",
       "  'keywords': 'gleeful jubilant elated joyful',\n",
       "  'filepath': '/assets/images/joyful3.jpg'},\n",
       " {'id': 20,\n",
       "  'mood': 'lazy',\n",
       "  'keywords': 'otiose work-shy lazy indolent faineant slothful',\n",
       "  'filepath': '/assets/images/lazy0.jpeg'},\n",
       " {'id': 21,\n",
       "  'mood': 'melancholy',\n",
       "  'keywords': 'sombre somber melancholic black_bile melancholy',\n",
       "  'filepath': '/assets/images/melancholy0.jpeg'},\n",
       " {'id': 22,\n",
       "  'mood': 'passionate',\n",
       "  'keywords': 'passionate',\n",
       "  'filepath': '/assets/images/passionate0.jpeg'},\n",
       " {'id': 23,\n",
       "  'mood': 'passionate',\n",
       "  'keywords': 'passionate',\n",
       "  'filepath': '/assets/images/passionate1.jpeg'},\n",
       " {'id': 24,\n",
       "  'mood': 'reflective',\n",
       "  'keywords': 'broody brooding reflective meditative contemplative musing ruminative pondering pensive',\n",
       "  'filepath': '/assets/images/reflective0.jpeg'},\n",
       " {'id': 25,\n",
       "  'mood': 'thoughtful',\n",
       "  'keywords': 'attentive thoughtful paying_attention serious-minded heedful',\n",
       "  'filepath': '/assets/images/thoughtful0.jpeg'}]"
      ]
     },
     "execution_count": 9,
     "metadata": {},
     "output_type": "execute_result"
    }
   ],
   "source": [
    "moodArts"
   ]
  },
  {
   "cell_type": "code",
   "execution_count": 8,
   "metadata": {},
   "outputs": [],
   "source": [
    "jsonObject = json.dumps(moodArts, indent = 4)\n",
    "with open(mypath + \"arts.json\", \"w\") as outfile:\n",
    "    outfile.write(json_object)"
   ]
  },
  {
   "cell_type": "code",
   "execution_count": null,
   "metadata": {},
   "outputs": [],
   "source": []
  }
 ],
 "metadata": {
  "kernelspec": {
   "display_name": "Python 3",
   "language": "python",
   "name": "python3"
  },
  "language_info": {
   "codemirror_mode": {
    "name": "ipython",
    "version": 3
   },
   "file_extension": ".py",
   "mimetype": "text/x-python",
   "name": "python",
   "nbconvert_exporter": "python",
   "pygments_lexer": "ipython3",
   "version": "3.7.6"
  }
 },
 "nbformat": 4,
 "nbformat_minor": 4
}
